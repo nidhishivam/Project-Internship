{
 "cells": [
  {
   "cell_type": "code",
   "execution_count": 180,
   "id": "320ed926-8113-4f4d-b2d4-eadfe4553c80",
   "metadata": {},
   "outputs": [],
   "source": [
    "import pandas as pd\n",
    "from sklearn.linear_model import LinearRegression\n",
    "from sklearn.model_selection import train_test_split\n",
    "from sklearn.preprocessing import LabelEncoder\n",
    "from sklearn.metrics import accuracy_score, mean_squared_error\n",
    "import seaborn as sns\n",
    "import matplotlib.pyplot as plt\n",
    "import numpy as np\n",
    "import re"
   ]
  },
  {
   "cell_type": "code",
   "execution_count": 181,
   "id": "62205a86-dabf-451a-8ddc-994e503a1da5",
   "metadata": {},
   "outputs": [],
   "source": [
    "data_path = 'Data_Train.csv'  # Ensure this path is correct and points to your CSV file\n",
    "data = pd.read_csv(data_path, encoding='cp1252')"
   ]
  },
  {
   "cell_type": "code",
   "execution_count": 182,
   "id": "857211ae-13b6-4467-ac7f-a227a47c9eca",
   "metadata": {},
   "outputs": [
    {
     "name": "stdout",
     "output_type": "stream",
     "text": [
      "               TITLE  RESTAURANT_ID  \\\n",
      "0      CASUAL DINING           9438   \n",
      "1  CASUAL DINING,BAR          13198   \n",
      "2      CASUAL DINING          10915   \n",
      "3        QUICK BITES           6346   \n",
      "4     DESSERT PARLOR          15387   \n",
      "\n",
      "                                     CUISINES  \\\n",
      "0                 Malwani, Goan, North Indian   \n",
      "1              Asian, Modern Indian, Japanese   \n",
      "2  North Indian, Chinese, Biryani, Hyderabadi   \n",
      "3                            Tibetan, Chinese   \n",
      "4                                    Desserts   \n",
      "\n",
      "                                     TIME     CITY        LOCALITY RATING  \\\n",
      "0  11am – 4pm, 7:30pm – 11:30pm (Mon-Sun)    Thane  Dombivali East    3.6   \n",
      "1                    6pm – 11pm (Mon-Sun)  Chennai       Ramapuram    4.2   \n",
      "2     11am – 3:30pm, 7pm – 11pm (Mon-Sun)  Chennai      Saligramam    3.8   \n",
      "3                 11:30am – 1am (Mon-Sun)   Mumbai     Bandra West    4.1   \n",
      "4                    11am – 1am (Mon-Sun)   Mumbai     Lower Parel    3.8   \n",
      "\n",
      "       VOTES  COST  \n",
      "0   49 votes  1200  \n",
      "1   30 votes  1500  \n",
      "2  221 votes   800  \n",
      "3   24 votes   800  \n",
      "4  165 votes   300  \n"
     ]
    }
   ],
   "source": [
    "print(data.head())"
   ]
  },
  {
   "cell_type": "code",
   "execution_count": 199,
   "id": "30f8d27c-9410-4b9f-8e5c-aecd35d52834",
   "metadata": {},
   "outputs": [],
   "source": [
    "data.dropna(inplace=True)"
   ]
  },
  {
   "cell_type": "code",
   "execution_count": 200,
   "id": "786e526d-8c62-4624-96fd-35e1a85abc60",
   "metadata": {},
   "outputs": [],
   "source": [
    "label_encoder = LabelEncoder()\n",
    "data['TITLE'] = label_encoder.fit_transform(data['TITLE'])\n",
    "data['RESTAURANT_ID'] = label_encoder.fit_transform(data['RESTAURANT_ID'])\n",
    "data['CUISINES'] = label_encoder.fit_transform(data['CUISINES'])\n",
    "data['CITY'] = label_encoder.fit_transform(data['CITY'])\n",
    "data['LOCALITY'] = label_encoder.fit_transform(data['LOCALITY'])"
   ]
  },
  {
   "cell_type": "code",
   "execution_count": null,
   "id": "b38dbe5c-0578-44d3-8b62-1df8f45056f1",
   "metadata": {},
   "outputs": [],
   "source": []
  },
  {
   "cell_type": "code",
   "execution_count": null,
   "id": "f8bf3150-4aca-42f1-805b-a7a2cc380c5f",
   "metadata": {},
   "outputs": [],
   "source": []
  },
  {
   "cell_type": "code",
   "execution_count": 201,
   "id": "987acdc3-ed90-4539-868d-43d4f924352f",
   "metadata": {},
   "outputs": [],
   "source": [
    "X = data[['TITLE', 'RESTAURANT_ID', 'CUISINES', 'CITY', 'LOCALITY','COST']]\n",
    "y = data['RATING']"
   ]
  },
  {
   "cell_type": "code",
   "execution_count": 202,
   "id": "6414e47a-921f-4483-b7b4-99f309a9f292",
   "metadata": {},
   "outputs": [
    {
     "name": "stdout",
     "output_type": "stream",
     "text": [
      "       TITLE  RESTAURANT_ID  CUISINES  CITY  LOCALITY  COST\n",
      "0         29           6494      2485   300       267  1200\n",
      "1         31           9133       279    63       963  1500\n",
      "2         29           7543      2823    63      1017   800\n",
      "3         93           4382      3926   206       128   800\n",
      "4         48          10663      1678   206       573   300\n",
      "...      ...            ...       ...   ...       ...   ...\n",
      "12685     93           9156      2781   125       318   500\n",
      "12686     31           6673      2034   206       125  1800\n",
      "12687     69           7701      1980   223      1243  1300\n",
      "12688     29           4245      3334    63       584   400\n",
      "12689     29           4442      2793   125      1234   600\n",
      "\n",
      "[11486 rows x 6 columns]\n"
     ]
    }
   ],
   "source": [
    "print(X)"
   ]
  },
  {
   "cell_type": "code",
   "execution_count": 203,
   "id": "7f968c25-b6f6-4f3e-8a17-6e545b08dd41",
   "metadata": {},
   "outputs": [
    {
     "name": "stdout",
     "output_type": "stream",
     "text": [
      "Series([], Name: userID, dtype: float64)\n"
     ]
    }
   ],
   "source": [
    "print(Y)"
   ]
  },
  {
   "cell_type": "code",
   "execution_count": 209,
   "id": "ba5f50eb-b264-455e-a80a-b9a5c8fa1a97",
   "metadata": {},
   "outputs": [],
   "source": [
    "X_train, X_test, y_train, y_test = train_test_split(X, y, test_size=0.2, random_state=2)"
   ]
  },
  {
   "cell_type": "code",
   "execution_count": 210,
   "id": "8185dcf1-ec55-4d65-9c96-f3d048c96fe0",
   "metadata": {},
   "outputs": [
    {
     "name": "stdout",
     "output_type": "stream",
     "text": [
      "<class 'pandas.core.frame.DataFrame'>\n",
      "Int64Index: 11486 entries, 0 to 12689\n",
      "Data columns (total 9 columns):\n",
      " #   Column         Non-Null Count  Dtype \n",
      "---  ------         --------------  ----- \n",
      " 0   TITLE          11486 non-null  int64 \n",
      " 1   RESTAURANT_ID  11486 non-null  int64 \n",
      " 2   CUISINES       11486 non-null  int64 \n",
      " 3   TIME           11486 non-null  object\n",
      " 4   CITY           11486 non-null  int64 \n",
      " 5   LOCALITY       11486 non-null  int64 \n",
      " 6   RATING         11486 non-null  object\n",
      " 7   VOTES          11486 non-null  object\n",
      " 8   COST           11486 non-null  int64 \n",
      "dtypes: int64(6), object(3)\n",
      "memory usage: 897.3+ KB\n",
      "None\n"
     ]
    }
   ],
   "source": [
    "print(data.info())\n"
   ]
  },
  {
   "cell_type": "code",
   "execution_count": 211,
   "id": "34aebb88-6d01-4df2-96bc-c4f8c76930b0",
   "metadata": {},
   "outputs": [
    {
     "name": "stdout",
     "output_type": "stream",
     "text": [
      "              TITLE  RESTAURANT_ID      CUISINES          CITY      LOCALITY  \\\n",
      "count  11486.000000   11486.000000  11486.000000  11486.000000  11486.000000   \n",
      "mean      57.088804    5387.772332   2124.253961    133.583754    610.372889   \n",
      "std       32.264824    3111.678543   1146.815622     81.093981    371.609965   \n",
      "min        0.000000       0.000000      0.000000      0.000000      0.000000   \n",
      "25%       29.000000    2694.250000   1124.000000     63.000000    313.000000   \n",
      "50%       51.000000    5379.500000   2271.500000    125.000000    545.000000   \n",
      "75%       93.000000    8096.750000   3070.000000    206.000000    933.000000   \n",
      "max      110.000000   10788.000000   3945.000000    336.000000   1314.000000   \n",
      "\n",
      "               COST  \n",
      "count  11486.000000  \n",
      "mean     681.896309  \n",
      "std      645.571594  \n",
      "min       50.000000  \n",
      "25%      300.000000  \n",
      "50%      500.000000  \n",
      "75%      800.000000  \n",
      "max    14000.000000  \n"
     ]
    }
   ],
   "source": [
    "print(data.describe())\n"
   ]
  },
  {
   "cell_type": "code",
   "execution_count": 212,
   "id": "817a609d-1a47-4908-b160-822ac13ad991",
   "metadata": {},
   "outputs": [
    {
     "name": "stderr",
     "output_type": "stream",
     "text": [
      "C:\\Users\\suraj\\AppData\\Local\\Temp\\ipykernel_11240\\245084140.py:3: UserWarning: \n",
      "\n",
      "`distplot` is a deprecated function and will be removed in seaborn v0.14.0.\n",
      "\n",
      "Please adapt your code to use either `displot` (a figure-level function with\n",
      "similar flexibility) or `histplot` (an axes-level function for histograms).\n",
      "\n",
      "For a guide to updating your code to use the new functions, please see\n",
      "https://gist.github.com/mwaskom/de44147ed2974457ad6372750bbe5751\n",
      "\n",
      "  sns.distplot(data['CUISINES'])\n"
     ]
    },
    {
     "data": {
      "image/png": "[encoded data removed]",
      "text/plain": [
       "<Figure size 600x600 with 1 Axes>"
      ]
     },
     "metadata": {},
     "output_type": "display_data"
    }
   ],
   "source": [
    "sns.set()\n",
    "plt.figure(figsize=(6,6))\n",
    "sns.distplot(data['CUISINES'])\n",
    "plt.title('CUISINES Distribution')\n",
    "plt.show()"
   ]
  },
  {
   "cell_type": "code",
   "execution_count": 219,
   "id": "6b138455-ebba-4492-b599-4f5de712e977",
   "metadata": {},
   "outputs": [
    {
     "name": "stdout",
     "output_type": "stream",
     "text": [
      "[3.81264955 4.05808345 3.6349441  ... 3.71172475 3.72443289 3.60934836]\n"
     ]
    }
   ],
   "source": [
    "model = LinearRegression()\n",
    "model.fit(X_train, y_train)\n",
    "\n",
    "\n",
    "y_pred = model.predict(X_test)\n",
    "print(y_pred)\n",
    "\n",
    "\n"
   ]
  },
  {
   "cell_type": "code",
   "execution_count": null,
   "id": "3a770c13-9d2b-4588-8f20-300a32edd258",
   "metadata": {},
   "outputs": [],
   "source": []
  },
  {
   "cell_type": "code",
   "execution_count": null,
   "id": "7eca68bb-2056-4e93-8f4b-8918b253db9a",
   "metadata": {},
   "outputs": [],
   "source": []
  },
  {
   "cell_type": "code",
   "execution_count": null,
   "id": "7bf14ea9-ed36-4214-9f39-ee88a1d113e7",
   "metadata": {},
   "outputs": [],
   "source": []
  },
  {
   "cell_type": "code",
   "execution_count": null,
   "id": "04ad9b70-01aa-4380-baae-ba347d1ee9c7",
   "metadata": {},
   "outputs": [],
   "source": []
  }
 ],
 "metadata": {
  "kernelspec": {
   "display_name": "Python 3 (ipykernel)",
   "language": "python",
   "name": "python3"
  },
  "language_info": {
   "codemirror_mode": {
    "name": "ipython",
    "version": 3
   },
   "file_extension": ".py",
   "mimetype": "text/x-python",
   "name": "python",
   "nbconvert_exporter": "python",
   "pygments_lexer": "ipython3",
   "version": "3.11.7"
  }
 },
 "nbformat": 4,
 "nbformat_minor": 5
}
